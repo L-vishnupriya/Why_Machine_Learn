{
 "cells": [
  {
   "cell_type": "code",
   "execution_count": 6,
   "id": "286429a2-7650-4bb7-bddc-3cb5008c83c4",
   "metadata": {},
   "outputs": [],
   "source": [
    "def mcp_neuron(inputs, weights, threshold):\n",
    "    \"\"\"\n",
    "    MCP Neuron implementation.\n",
    "    \n",
    "    :param inputs: List of binary inputs (0 or 1)\n",
    "    :param weights: List of weights corresponding to the inputs\n",
    "    :param threshold: Threshold value for activation\n",
    "    :return: Output (1 or 0)\n",
    "    \"\"\"\n",
    "    # Calculate weighted sum\n",
    "    weighted_sum = sum(i * w for i, w in zip(inputs, weights))\n",
    "    # Apply step function\n",
    "    return 1 if weighted_sum >= threshold else 0"
   ]
  },
  {
   "cell_type": "code",
   "execution_count": 7,
   "id": "8d8fddda-0581-4ada-bb66-511371ef6dd0",
   "metadata": {},
   "outputs": [],
   "source": [
    "\n",
    "# AND Gate\n",
    "def and_gate(inputs):\n",
    "    return mcp_neuron(inputs, weights=[1, 1], threshold=2)\n"
   ]
  },
  {
   "cell_type": "code",
   "execution_count": 17,
   "id": "9fc8c12b-59c8-4ccc-8d62-ed2f20441180",
   "metadata": {},
   "outputs": [
    {
     "name": "stdout",
     "output_type": "stream",
     "text": [
      "MCP model for AND Gate:\n",
      "Input [0, 0] -> 0\n",
      "Input [0, 1] -> 0\n",
      "Input [1, 0] -> 0\n",
      "Input [1, 1] -> 1\n"
     ]
    }
   ],
   "source": [
    "print(\"MCP model for AND Gate:\")\n",
    "print(\"Input [0, 0] ->\", and_gate([0, 0]))\n",
    "print(\"Input [0, 1] ->\", and_gate([0, 1]))\n",
    "print(\"Input [1, 0] ->\", and_gate([1, 0]))\n",
    "print(\"Input [1, 1] ->\", and_gate([1, 1]))\n"
   ]
  },
  {
   "cell_type": "code",
   "execution_count": 18,
   "id": "cf7bfec8-be06-474e-83f7-1577d27cdc4c",
   "metadata": {},
   "outputs": [],
   "source": [
    "# OR Gate\n",
    "def or_gate(inputs):\n",
    "    return mcp_neuron(inputs, weights=[1, 1], threshold=1)\n"
   ]
  },
  {
   "cell_type": "code",
   "execution_count": 19,
   "id": "0cb18000-8b2c-4037-a0fa-08878f9d8246",
   "metadata": {},
   "outputs": [
    {
     "name": "stdout",
     "output_type": "stream",
     "text": [
      "\n",
      " MCP model for OR Gate:\n",
      "Input [0, 0] -> 0\n",
      "Input [0, 1] -> 1\n",
      "Input [1, 0] -> 1\n",
      "Input [1, 1] -> 1\n"
     ]
    }
   ],
   "source": [
    "print(\"\\n MCP model for OR Gate:\")\n",
    "print(\"Input [0, 0] ->\", or_gate([0, 0]))\n",
    "print(\"Input [0, 1] ->\", or_gate([0, 1]))\n",
    "print(\"Input [1, 0] ->\", or_gate([1, 0]))\n",
    "print(\"Input [1, 1] ->\", or_gate([1, 1]))"
   ]
  },
  {
   "cell_type": "code",
   "execution_count": 20,
   "id": "a688b7cd-f20a-45ca-b9ae-22cb9c3da9a4",
   "metadata": {},
   "outputs": [],
   "source": [
    "# NOT Gate\n",
    "def not_gate(input_value):\n",
    "    return mcp_neuron([input_value], weights=[-1], threshold=0)"
   ]
  },
  {
   "cell_type": "code",
   "execution_count": 21,
   "id": "1e09c0d4-6e65-490a-8692-0409bb9b5460",
   "metadata": {},
   "outputs": [
    {
     "name": "stdout",
     "output_type": "stream",
     "text": [
      "\n",
      "MCP model for NOT Gate:\n",
      "Input [0] -> 1\n",
      "Input [1] -> 0\n"
     ]
    }
   ],
   "source": [
    "print(\"\\nMCP model for NOT Gate:\")\n",
    "print(\"Input [0] ->\", not_gate(0))\n",
    "print(\"Input [1] ->\", not_gate(1))"
   ]
  },
  {
   "cell_type": "code",
   "execution_count": 22,
   "id": "9398f10b-c895-4955-b245-5bb3705c1e2e",
   "metadata": {},
   "outputs": [],
   "source": [
    "# NAND Gate\n",
    "def nand_gate(inputs):\n",
    "    return mcp_neuron(inputs, weights=[-1, -1], threshold=-2)"
   ]
  },
  {
   "cell_type": "code",
   "execution_count": 23,
   "id": "7c1bde7a-b91e-4964-b9fb-3afdaef81c55",
   "metadata": {},
   "outputs": [
    {
     "name": "stdout",
     "output_type": "stream",
     "text": [
      "\n",
      "MCP model for NAND Gate:\n",
      "Input [0, 0] -> 1\n",
      "Input [0, 1] -> 1\n",
      "Input [1, 0] -> 1\n",
      "Input [1, 1] -> 1\n"
     ]
    }
   ],
   "source": [
    "print(\"\\nMCP model for NAND Gate:\")\n",
    "print(\"Input [0, 0] ->\", nand_gate([0, 0]))\n",
    "print(\"Input [0, 1] ->\", nand_gate([0, 1]))\n",
    "print(\"Input [1, 0] ->\", nand_gate([1, 0]))\n",
    "print(\"Input [1, 1] ->\", nand_gate([1, 1]))"
   ]
  },
  {
   "cell_type": "code",
   "execution_count": 24,
   "id": "4c670d5d-e180-44a9-90bf-ca68c384edb3",
   "metadata": {},
   "outputs": [],
   "source": [
    "# NOR Gate\n",
    "def nor_gate(inputs):\n",
    "    return mcp_neuron(inputs, weights=[-1, -1], threshold=0)\n"
   ]
  },
  {
   "cell_type": "code",
   "execution_count": 25,
   "id": "871b9d2e-1bab-4247-830e-22a0222f98f4",
   "metadata": {},
   "outputs": [
    {
     "name": "stdout",
     "output_type": "stream",
     "text": [
      "\n",
      "MCP model for NOR Gate:\n",
      "Input [0, 0] -> 1\n",
      "Input [0, 1] -> 0\n",
      "Input [1, 0] -> 0\n",
      "Input [1, 1] -> 0\n"
     ]
    }
   ],
   "source": [
    "print(\"\\nMCP model for NOR Gate:\")\n",
    "print(\"Input [0, 0] ->\", nor_gate([0, 0]))\n",
    "print(\"Input [0, 1] ->\", nor_gate([0, 1]))\n",
    "print(\"Input [1, 0] ->\", nor_gate([1, 0]))\n",
    "print(\"Input [1, 1] ->\", nor_gate([1, 1]))"
   ]
  }
 ],
 "metadata": {
  "kernelspec": {
   "display_name": "Python 3 (ipykernel)",
   "language": "python",
   "name": "python3"
  },
  "language_info": {
   "codemirror_mode": {
    "name": "ipython",
    "version": 3
   },
   "file_extension": ".py",
   "mimetype": "text/x-python",
   "name": "python",
   "nbconvert_exporter": "python",
   "pygments_lexer": "ipython3",
   "version": "3.11.7"
  }
 },
 "nbformat": 4,
 "nbformat_minor": 5
}
